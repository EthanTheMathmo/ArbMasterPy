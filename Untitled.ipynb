{
 "cells": [
  {
   "cell_type": "code",
   "execution_count": null,
   "id": "0700b369",
   "metadata": {},
   "outputs": [],
   "source": [
    " import sys; path_for_data_wrapper = pkg_resources.resource_filename('ArbMasterPy', 'sku_generation_wrapper.py') ;import subprocess; DETACHED_PROCESS = 0x00000008;subprocess.Popen([sys.executable, path_for_data_wrapper], close_fds=True, creationflags=DETACHED_PROCESS)"
   ]
  },
  {
   "cell_type": "code",
   "execution_count": null,
   "id": "678affce",
   "metadata": {},
   "outputs": [],
   "source": [
    "from ArbMasterPy import import_data_wrapper"
   ]
  },
  {
   "cell_type": "code",
   "execution_count": null,
   "id": "62225d2e",
   "metadata": {},
   "outputs": [],
   "source": [
    "import pkg_resources\n",
    "\n",
    "path_for_data_wrapper = pkg_resources.resource_filename('ArbMasterPy', 'import_data_wrapper.py')"
   ]
  },
  {
   "cell_type": "code",
   "execution_count": null,
   "id": "630bd419",
   "metadata": {},
   "outputs": [],
   "source": [
    "DATA_PATH"
   ]
  },
  {
   "cell_type": "code",
   "execution_count": null,
   "id": "0559a578",
   "metadata": {},
   "outputs": [],
   "source": [
    "import sys; import subprocess; DETACHED_PROCESS = 0x00000008;subprocess.Popen([sys.executable, r'C:\\Users\\ethan\\Documents\\work-for-james\\work_for_james\\sku_generation_wrapper.py'], close_fds=True, creationflags=DETACHED_PROCESS)"
   ]
  },
  {
   "cell_type": "code",
   "execution_count": null,
   "id": "cdd22fbb",
   "metadata": {},
   "outputs": [],
   "source": [
    "import sys; path_for_export_wrapper = pkg_resources.resource_filename('ArbMasterPy', 'export_to_amazon_master_wrapper') ;import subprocess; DETACHED_PROCESS = 0x00000008;"
   ]
  },
  {
   "cell_type": "code",
   "execution_count": null,
   "id": "8bdb8168",
   "metadata": {},
   "outputs": [],
   "source": [
    "subprocess.Popen([sys.executable, path_for_export_wrapper], close_fds=True, creationflags=DETACHED_PROCESS)"
   ]
  },
  {
   "cell_type": "code",
   "execution_count": null,
   "id": "66984896",
   "metadata": {},
   "outputs": [],
   "source": [
    "subprocess.Popen"
   ]
  },
  {
   "cell_type": "code",
   "execution_count": null,
   "id": "177cc0f5",
   "metadata": {},
   "outputs": [],
   "source": [
    "from ArbMasterPy import export_to_amazon_master_wrapper"
   ]
  },
  {
   "cell_type": "code",
   "execution_count": null,
   "id": "0e68f3c1",
   "metadata": {},
   "outputs": [],
   "source": [
    " import sys; path_for_data_wrapper = pkg_resources.resource_filename('ArbMasterPy', 'sku_generation_wrapper.py') ;import subprocess; DETACHED_PROCESS = 0x00000008;subprocess.Popen([sys.executable, path_for_data_wrapper], close_fds=True, creationflags=DETACHED_PROCESS)"
   ]
  },
  {
   "cell_type": "code",
   "execution_count": null,
   "id": "396fa151",
   "metadata": {},
   "outputs": [],
   "source": []
  },
  {
   "cell_type": "code",
   "execution_count": null,
   "id": "7450a5b9",
   "metadata": {},
   "outputs": [],
   "source": []
  },
  {
   "cell_type": "code",
   "execution_count": null,
   "id": "11bd903d",
   "metadata": {},
   "outputs": [],
   "source": [
    "import sys; import pkg_resources\n",
    "path_for_export_wrapper = pkg_resources.resource_filename('ArbMasterPy', 'export_to_amazon_master_wrapper.py')\n",
    "import subprocess; \n",
    "a=subprocess.Popen([sys.executable, path_for_export_wrapper], close_fds=True, creationflags=DETACHED_PROCESS, stdout=PIPE)\n"
   ]
  },
  {
   "cell_type": "code",
   "execution_count": null,
   "id": "d942c8dd",
   "metadata": {},
   "outputs": [],
   "source": [
    "path_for_export_wrapper"
   ]
  },
  {
   "cell_type": "code",
   "execution_count": null,
   "id": "aa7e4be7",
   "metadata": {},
   "outputs": [],
   "source": [
    "a.communicate()"
   ]
  },
  {
   "cell_type": "code",
   "execution_count": null,
   "id": "919c5e90",
   "metadata": {},
   "outputs": [],
   "source": [
    "\n",
    "\n",
    "from subprocess import PIPE, CalledProcessError, check_call, Popen\n",
    "\n",
    "with open(\"log.txt\", \"w\") as f:\n",
    "    try:\n",
    "        DETACHED_PROCESS = 0x00000008;\n",
    "        a=subprocess.Popen([sys.executable, path_for_export_wrapper], close_fds=True, creationflags=DETACHED_PROCESS, stdout=PIPE)\n",
    "        output, err = a.communicate()\n",
    "    except CalledProcessError as e:\n",
    "        print(e)\n",
    "        exit(1)"
   ]
  },
  {
   "cell_type": "code",
   "execution_count": null,
   "id": "08f3bf9c",
   "metadata": {},
   "outputs": [],
   "source": [
    "output"
   ]
  },
  {
   "cell_type": "code",
   "execution_count": null,
   "id": "38c0e5bb",
   "metadata": {},
   "outputs": [],
   "source": [
    "err"
   ]
  },
  {
   "cell_type": "code",
   "execution_count": null,
   "id": "8c0bcd9e",
   "metadata": {},
   "outputs": [],
   "source": [
    "import sys; \n",
    "import pkg_resources; \n",
    "path_for_export_wrapper = pkg_resources.resource_filename('ArbMasterPy', 'master_to_amazon.py')\n",
    "import subprocess; \n",
    "from ArbMasterPy.master_to_amazon import export_data\n",
    "DETACHED_PROCESS = 0x00000008;\n",
    "subprocess.Popen(target=export_data,fds=True, creationflags=DETACHED_PROCESS)"
   ]
  },
  {
   "cell_type": "code",
   "execution_count": null,
   "id": "c4952159",
   "metadata": {},
   "outputs": [],
   "source": [
    "import pkg_resources\n",
    "pkg_resources.resource_filename('ArbMasterPy', 'data\\\\sku_generation_wrapper.py')"
   ]
  },
  {
   "cell_type": "code",
   "execution_count": null,
   "id": "3eb47e10",
   "metadata": {},
   "outputs": [],
   "source": []
  },
  {
   "cell_type": "code",
   "execution_count": null,
   "id": "653a28f3",
   "metadata": {},
   "outputs": [],
   "source": [
    "from multiprocessing import Process;p = Process(target=export_data, args=());p.start()"
   ]
  },
  {
   "cell_type": "code",
   "execution_count": 2,
   "id": "330e271c",
   "metadata": {},
   "outputs": [],
   "source": [
    "import PySimpleGUI as sg\n",
    "N=0\n",
    "\n",
    "# layout the window\n",
    "layout = [[sg.Text('Uploading...')]];window = sg.Window('My Program Upload', layout, keep_on_top=True);event, values = window.read(timeout=10)\n",
    "\n",
    "window.close()"
   ]
  },
  {
   "cell_type": "code",
   "execution_count": null,
   "id": "bfd8b260",
   "metadata": {},
   "outputs": [],
   "source": [
    "window.close()"
   ]
  },
  {
   "cell_type": "code",
   "execution_count": 26,
   "id": "4bd70f56",
   "metadata": {},
   "outputs": [],
   "source": [
    "a=sg.Window(\"Loading...\", auto_close=True,keep_on_top=True,auto_close_duration=5)\n"
   ]
  },
  {
   "cell_type": "code",
   "execution_count": 21,
   "id": "8e5592ec",
   "metadata": {},
   "outputs": [
    {
     "ename": "AttributeError",
     "evalue": "'str' object has no attribute 'close'",
     "output_type": "error",
     "traceback": [
      "\u001b[1;31m---------------------------------------------------------------------------\u001b[0m",
      "\u001b[1;31mAttributeError\u001b[0m                            Traceback (most recent call last)",
      "\u001b[1;32m~\\AppData\\Local\\Temp/ipykernel_12124/2803436046.py\u001b[0m in \u001b[0;36m<module>\u001b[1;34m\u001b[0m\n\u001b[1;32m----> 1\u001b[1;33m \u001b[0ma\u001b[0m\u001b[1;33m.\u001b[0m\u001b[0mclose\u001b[0m\u001b[1;33m(\u001b[0m\u001b[1;33m)\u001b[0m\u001b[1;33m\u001b[0m\u001b[1;33m\u001b[0m\u001b[0m\n\u001b[0m",
      "\u001b[1;31mAttributeError\u001b[0m: 'str' object has no attribute 'close'"
     ]
    }
   ],
   "source": []
  },
  {
   "cell_type": "code",
   "execution_count": null,
   "id": "38f8c299",
   "metadata": {},
   "outputs": [],
   "source": []
  }
 ],
 "metadata": {
  "kernelspec": {
   "display_name": "Python 3 (ipykernel)",
   "language": "python",
   "name": "python3"
  },
  "language_info": {
   "codemirror_mode": {
    "name": "ipython",
    "version": 3
   },
   "file_extension": ".py",
   "mimetype": "text/x-python",
   "name": "python",
   "nbconvert_exporter": "python",
   "pygments_lexer": "ipython3",
   "version": "3.8.0"
  }
 },
 "nbformat": 4,
 "nbformat_minor": 5
}
