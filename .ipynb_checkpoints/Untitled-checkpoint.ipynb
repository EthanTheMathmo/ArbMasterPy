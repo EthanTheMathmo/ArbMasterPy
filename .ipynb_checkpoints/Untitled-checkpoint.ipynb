{
 "cells": [
  {
   "cell_type": "code",
   "execution_count": null,
   "id": "7c4de73c",
   "metadata": {},
   "outputs": [],
   "source": [
    " import sys; path_for_data_wrapper = pkg_resources.resource_filename('ArbMasterPy', 'sku_generation_wrapper.py') ;import subprocess; DETACHED_PROCESS = 0x00000008;subprocess.Popen([sys.executable, path_for_data_wrapper], close_fds=True, creationflags=DETACHED_PROCESS)"
   ]
  },
  {
   "cell_type": "code",
   "execution_count": null,
   "id": "ac006c96",
   "metadata": {},
   "outputs": [],
   "source": [
    "from ArbMasterPy import import_data_wrapper"
   ]
  },
  {
   "cell_type": "code",
   "execution_count": null,
   "id": "2b78d537",
   "metadata": {},
   "outputs": [],
   "source": [
    "import pkg_resources\n",
    "\n",
    "path_for_data_wrapper = pkg_resources.resource_filename('ArbMasterPy', 'import_data_wrapper.py')"
   ]
  },
  {
   "cell_type": "code",
   "execution_count": null,
   "id": "b5cee513",
   "metadata": {},
   "outputs": [],
   "source": [
    "DATA_PATH"
   ]
  },
  {
   "cell_type": "code",
   "execution_count": null,
   "id": "da559b69",
   "metadata": {},
   "outputs": [],
   "source": [
    "import sys; import subprocess; DETACHED_PROCESS = 0x00000008;subprocess.Popen([sys.executable, r'C:\\Users\\ethan\\Documents\\work-for-james\\work_for_james\\sku_generation_wrapper.py'], close_fds=True, creationflags=DETACHED_PROCESS)"
   ]
  },
  {
   "cell_type": "code",
   "execution_count": null,
   "id": "19231ad0",
   "metadata": {},
   "outputs": [],
   "source": [
    "import sys; path_for_export_wrapper = pkg_resources.resource_filename('ArbMasterPy', 'export_to_amazon_master_wrapper') ;import subprocess; DETACHED_PROCESS = 0x00000008;"
   ]
  },
  {
   "cell_type": "code",
   "execution_count": null,
   "id": "1c006be7",
   "metadata": {},
   "outputs": [],
   "source": [
    "subprocess.Popen([sys.executable, path_for_export_wrapper], close_fds=True, creationflags=DETACHED_PROCESS)"
   ]
  },
  {
   "cell_type": "code",
   "execution_count": null,
   "id": "673c2221",
   "metadata": {},
   "outputs": [],
   "source": [
    "subprocess.Popen"
   ]
  },
  {
   "cell_type": "code",
   "execution_count": null,
   "id": "62cf7ea6",
   "metadata": {},
   "outputs": [],
   "source": [
    "from ArbMasterPy import export_to_amazon_master_wrapper"
   ]
  },
  {
   "cell_type": "code",
   "execution_count": null,
   "id": "3cceae14",
   "metadata": {},
   "outputs": [],
   "source": [
    " import sys; path_for_data_wrapper = pkg_resources.resource_filename('ArbMasterPy', 'sku_generation_wrapper.py') ;import subprocess; DETACHED_PROCESS = 0x00000008;subprocess.Popen([sys.executable, path_for_data_wrapper], close_fds=True, creationflags=DETACHED_PROCESS)"
   ]
  },
  {
   "cell_type": "code",
   "execution_count": null,
   "id": "041fe01a",
   "metadata": {},
   "outputs": [],
   "source": []
  },
  {
   "cell_type": "code",
   "execution_count": null,
   "id": "bbd5606e",
   "metadata": {},
   "outputs": [],
   "source": []
  },
  {
   "cell_type": "code",
   "execution_count": null,
   "id": "968685f2",
   "metadata": {},
   "outputs": [],
   "source": [
    "import sys; import pkg_resources\n",
    "path_for_export_wrapper = pkg_resources.resource_filename('ArbMasterPy', 'export_to_amazon_master_wrapper.py')\n",
    "import subprocess; \n",
    "a=subprocess.Popen([sys.executable, path_for_export_wrapper], close_fds=True, creationflags=DETACHED_PROCESS, stdout=PIPE)\n"
   ]
  },
  {
   "cell_type": "code",
   "execution_count": null,
   "id": "7b40d084",
   "metadata": {},
   "outputs": [],
   "source": [
    "path_for_export_wrapper"
   ]
  },
  {
   "cell_type": "code",
   "execution_count": null,
   "id": "799b0f9d",
   "metadata": {},
   "outputs": [],
   "source": [
    "a.communicate()"
   ]
  },
  {
   "cell_type": "code",
   "execution_count": null,
   "id": "75f3bd6d",
   "metadata": {},
   "outputs": [],
   "source": [
    "\n",
    "\n",
    "from subprocess import PIPE, CalledProcessError, check_call, Popen\n",
    "\n",
    "with open(\"log.txt\", \"w\") as f:\n",
    "    try:\n",
    "        DETACHED_PROCESS = 0x00000008;\n",
    "        a=subprocess.Popen([sys.executable, path_for_export_wrapper], close_fds=True, creationflags=DETACHED_PROCESS, stdout=PIPE)\n",
    "        output, err = a.communicate()\n",
    "    except CalledProcessError as e:\n",
    "        print(e)\n",
    "        exit(1)"
   ]
  },
  {
   "cell_type": "code",
   "execution_count": null,
   "id": "a5857fcc",
   "metadata": {},
   "outputs": [],
   "source": [
    "output"
   ]
  },
  {
   "cell_type": "code",
   "execution_count": null,
   "id": "d4e34305",
   "metadata": {},
   "outputs": [],
   "source": [
    "err"
   ]
  },
  {
   "cell_type": "code",
   "execution_count": null,
   "id": "b74a3f94",
   "metadata": {},
   "outputs": [],
   "source": [
    "import sys; \n",
    "import pkg_resources; \n",
    "path_for_export_wrapper = pkg_resources.resource_filename('ArbMasterPy', 'master_to_amazon.py')\n",
    "import subprocess; \n",
    "from ArbMasterPy.master_to_amazon import export_data\n",
    "DETACHED_PROCESS = 0x00000008;\n",
    "subprocess.Popen(target=export_data,fds=True, creationflags=DETACHED_PROCESS)"
   ]
  },
  {
   "cell_type": "code",
   "execution_count": null,
   "id": "e710e91a",
   "metadata": {},
   "outputs": [],
   "source": [
    "import pkg_resources\n",
    "pkg_resources.resource_filename('ArbMasterPy', 'data\\\\sku_generation_wrapper.py')"
   ]
  },
  {
   "cell_type": "code",
   "execution_count": null,
   "id": "06020da6",
   "metadata": {},
   "outputs": [],
   "source": []
  },
  {
   "cell_type": "code",
   "execution_count": null,
   "id": "02a70238",
   "metadata": {},
   "outputs": [],
   "source": [
    "from multiprocessing import Process;p = Process(target=export_data, args=());p.start()"
   ]
  },
  {
   "cell_type": "code",
   "execution_count": null,
   "id": "658b1b62",
   "metadata": {},
   "outputs": [],
   "source": [
    "import PySimpleGUI as sg\n",
    "N=1000\n",
    "\n",
    "# layout the window\n",
    "layout = [[sg.Text('Uploading...')],\n",
    "          [sg.ProgressBar(N, orientation='h', key='progressbar')],\n",
    "          [sg.Cancel()]]\n",
    "\n",
    "# create the window`\n",
    "window = sg.Window('My Program Upload', layout)\n",
    "\n",
    "progress_bar = window['progressbar']\n",
    "i=0\n",
    "for j in range(N):\n",
    "    event, values = window.read(timeout=10)\n",
    "    if event == 'Cancel'  or event == sg.WIN_CLOSED:\n",
    "        pass\n",
    "    j^20\n",
    "    i+=1\n",
    "    progress_bar.UpdateBar(i)\n",
    "\n",
    "window.close()"
   ]
  },
  {
   "cell_type": "code",
   "execution_count": null,
   "id": "e6370039",
   "metadata": {},
   "outputs": [],
   "source": []
  },
  {
   "cell_type": "code",
   "execution_count": null,
   "id": "16f93ce8",
   "metadata": {},
   "outputs": [],
   "source": []
  }
 ],
 "metadata": {
  "kernelspec": {
   "display_name": "Python 3 (ipykernel)",
   "language": "python",
   "name": "python3"
  },
  "language_info": {
   "codemirror_mode": {
    "name": "ipython",
    "version": 3
   },
   "file_extension": ".py",
   "mimetype": "text/x-python",
   "name": "python",
   "nbconvert_exporter": "python",
   "pygments_lexer": "ipython3",
   "version": "3.8.0"
  }
 },
 "nbformat": 4,
 "nbformat_minor": 5
}
